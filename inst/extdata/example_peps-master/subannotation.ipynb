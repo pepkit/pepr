{
 "cells": [
  {
   "cell_type": "markdown",
   "metadata": {},
   "source": [
    "# Sample subannotation\n",
    "\n",
    "This vignette will show you how sample subannotations work in a series of examples.\n",
    "\n",
    "## Example 1: basic sample subannotation table\n",
    "\n",
    "Example 2 demonstrates how a `sample_subannotation` is used. In this example, 2 samples have multiple input files that need merging (`frog_1` and `frog_2`), while 1 sample (`frog_3`) does not. Therefore, `frog_3` specifies its file in the `sample_annotation` table, while the others leave that field blank and instead specify several files in the `sample_subannotation`."
   ]
  },
  {
   "cell_type": "code",
   "execution_count": 1,
   "metadata": {},
   "outputs": [
    {
     "data": {
      "text/plain": [
       "'data/frog1a_data.txt data/frog1b_data.txt data/frog1c_data.txt'"
      ]
     },
     "execution_count": 1,
     "metadata": {},
     "output_type": "execute_result"
    }
   ],
   "source": [
    "import peppy\n",
    "p1 = peppy.Project(\"examples_subannotation/example1/project_config.yaml\")\n",
    "p1.samples[0].file"
   ]
  },
  {
   "cell_type": "code",
   "execution_count": 2,
   "metadata": {},
   "outputs": [
    {
     "name": "stdout",
     "output_type": "stream",
     "text": [
      "<class 'peppy.sample.Subsample'>\n",
      "Subsample: {'sample_name': 'frog_1', 'subsample_name': 'sub_a', 'file': 'data/frog1a_data.txt'}\n"
     ]
    }
   ],
   "source": [
    "ss = p1.get_subsample(sample_name=\"frog_1\", subsample_name=\"sub_a\")\n",
    "print(type(ss))\n",
    "print(ss)"
   ]
  },
  {
   "cell_type": "markdown",
   "metadata": {},
   "source": [
    "## ## Example 2: subannotations and derived columns\n",
    "\n",
    "Example 3 uses a `sample_subannotation` table and a derived column to point to files. This is a rather complex example. Notice we must include the `file_id` column in the `sample_annotation` table, and leave it blank; this is then populated by just some of the samples (`frog_1` and `frog_2`) in the `sample_subannotation`, but is left empty for the samples that are not merged."
   ]
  },
  {
   "cell_type": "code",
   "execution_count": 3,
   "metadata": {},
   "outputs": [
    {
     "data": {
      "text/plain": [
       "'/home/mjs5kd/UVA/example_peps/examples_subannotation/example2/../data/frog1a_data.txt /home/mjs5kd/UVA/example_peps/examples_subannotation/example2/../data/frog1b_data.txt /home/mjs5kd/UVA/example_peps/examples_subannotation/example2/../data/frog1c_data.txt'"
      ]
     },
     "execution_count": 3,
     "metadata": {},
     "output_type": "execute_result"
    }
   ],
   "source": [
    "import peppy\n",
    "p2 = peppy.Project(\"examples_subannotation/example2/project_config.yaml\")\n",
    "p2.samples[0].file"
   ]
  },
  {
   "cell_type": "code",
   "execution_count": 4,
   "metadata": {},
   "outputs": [
    {
     "data": {
      "text/plain": [
       "'/home/mjs5kd/UVA/example_peps/examples_subannotation/example2/../data/frog2a_data.txt /home/mjs5kd/UVA/example_peps/examples_subannotation/example2/../data/frog2b_data.txt'"
      ]
     },
     "execution_count": 4,
     "metadata": {},
     "output_type": "execute_result"
    }
   ],
   "source": [
    "p2.samples[1].file"
   ]
  },
  {
   "cell_type": "code",
   "execution_count": 5,
   "metadata": {},
   "outputs": [
    {
     "data": {
      "text/plain": [
       "'/home/mjs5kd/UVA/example_peps/examples_subannotation/example2/../data/frog3_data.txt'"
      ]
     },
     "execution_count": 5,
     "metadata": {},
     "output_type": "execute_result"
    }
   ],
   "source": [
    "p2.samples[2].file"
   ]
  },
  {
   "cell_type": "code",
   "execution_count": 6,
   "metadata": {},
   "outputs": [
    {
     "data": {
      "text/plain": [
       "'/home/mjs5kd/UVA/example_peps/examples_subannotation/example2/../data/frog4_data.txt'"
      ]
     },
     "execution_count": 6,
     "metadata": {},
     "output_type": "execute_result"
    }
   ],
   "source": [
    "p2.samples[3].file"
   ]
  },
  {
   "cell_type": "markdown",
   "metadata": {},
   "source": [
    "## Example 3: subannotations and expansion characters\n",
    "\n",
    "This example gives the exact same results as example 2, but in this case, uses a wildcard for `frog_2` instead of including it in the `sample_subannotation` table. Since we can't use a wildcard and a subannotation for the same sample, this necessitates specifying a second data source class (`local_files_unmerged`) that uses an asterisk. The outcome is the same.\n"
   ]
  },
  {
   "cell_type": "code",
   "execution_count": 7,
   "metadata": {},
   "outputs": [
    {
     "data": {
      "text/plain": [
       "'/home/mjs5kd/UVA/example_peps/examples_subannotation/example3/../data/frog1a_data.txt /home/mjs5kd/UVA/example_peps/examples_subannotation/example3/../data/frog1b_data.txt /home/mjs5kd/UVA/example_peps/examples_subannotation/example3/../data/frog1c_data.txt'"
      ]
     },
     "execution_count": 7,
     "metadata": {},
     "output_type": "execute_result"
    }
   ],
   "source": [
    "p3 = peppy.Project(\"examples_subannotation/example3/project_config.yaml\")\n",
    "p3.samples[0].file"
   ]
  },
  {
   "cell_type": "code",
   "execution_count": 8,
   "metadata": {},
   "outputs": [
    {
     "data": {
      "text/plain": [
       "'/home/mjs5kd/UVA/example_peps/examples_subannotation/example3/../data/frog2*_data.txt'"
      ]
     },
     "execution_count": 8,
     "metadata": {},
     "output_type": "execute_result"
    }
   ],
   "source": [
    "p3.samples[1].file"
   ]
  },
  {
   "cell_type": "code",
   "execution_count": 9,
   "metadata": {},
   "outputs": [
    {
     "data": {
      "text/plain": [
       "'/home/mjs5kd/UVA/example_peps/examples_subannotation/example3/../data/frog3*_data.txt'"
      ]
     },
     "execution_count": 9,
     "metadata": {},
     "output_type": "execute_result"
    }
   ],
   "source": [
    "p3.samples[2].file"
   ]
  },
  {
   "cell_type": "code",
   "execution_count": 10,
   "metadata": {},
   "outputs": [
    {
     "data": {
      "text/plain": [
       "'/home/mjs5kd/UVA/example_peps/examples_subannotation/example3/../data/frog4*_data.txt'"
      ]
     },
     "execution_count": 10,
     "metadata": {},
     "output_type": "execute_result"
    }
   ],
   "source": [
    "p3.samples[3].file"
   ]
  },
  {
   "cell_type": "markdown",
   "metadata": {},
   "source": [
    "## Example 4: subannotations and multiple (separate-class) inputs\n",
    "\n",
    "Merging is for same class inputs (like, multiple files for read1). Different-class inputs (like read1 vs read2) are handled by different attributes (or columns). This example shows you how to handle paired-end data, while also merging within each."
   ]
  },
  {
   "cell_type": "code",
   "execution_count": 11,
   "metadata": {},
   "outputs": [
    {
     "data": {
      "text/plain": [
       "'frog1a_data.txt frog1b_data.txt frog1c_data.txt'"
      ]
     },
     "execution_count": 11,
     "metadata": {},
     "output_type": "execute_result"
    }
   ],
   "source": [
    "p4 = peppy.Project(\"examples_subannotation/example4/project_config.yaml\")\n",
    "p4.samples[0].read1"
   ]
  },
  {
   "cell_type": "code",
   "execution_count": 12,
   "metadata": {},
   "outputs": [
    {
     "data": {
      "text/plain": [
       "'frog1a_data2.txt frog1b_data2.txt frog1b_data2.txt'"
      ]
     },
     "execution_count": 12,
     "metadata": {},
     "output_type": "execute_result"
    }
   ],
   "source": [
    "p4.samples[0].read2"
   ]
  },
  {
   "cell_type": "markdown",
   "metadata": {},
   "source": [
    "## Example 5: subannotations and multiple (separate-class) inputs with derived columns\n",
    "\n",
    "Merging is for same class inputs (like, multiple files for read1). Different-class inputs (like read1 vs read2) are handled by different attributes (or columns). This example shows you how to handle paired-end data, while also merging within each."
   ]
  },
  {
   "cell_type": "code",
   "execution_count": 13,
   "metadata": {},
   "outputs": [
    {
     "data": {
      "text/plain": [
       "'/home/mjs5kd/UVA/example_peps/examples_subannotation/example5/../data/frog1a_R1.fq.gz /home/mjs5kd/UVA/example_peps/examples_subannotation/example5/../data/frog1b_R1.fq.gz /home/mjs5kd/UVA/example_peps/examples_subannotation/example5/../data/frog1c_R1.fq.gz'"
      ]
     },
     "execution_count": 13,
     "metadata": {},
     "output_type": "execute_result"
    }
   ],
   "source": [
    "p5 = peppy.Project(\"examples_subannotation/example5/project_config.yaml\")\n",
    "p5.samples[0].read1"
   ]
  },
  {
   "cell_type": "code",
   "execution_count": 14,
   "metadata": {},
   "outputs": [
    {
     "data": {
      "text/plain": [
       "'/home/mjs5kd/UVA/example_peps/examples_subannotation/example5/../data/frog1a_R2.fq.gz /home/mjs5kd/UVA/example_peps/examples_subannotation/example5/../data/frog1b_R2.fq.gz /home/mjs5kd/UVA/example_peps/examples_subannotation/example5/../data/frog1c_R2.fq.gz'"
      ]
     },
     "execution_count": 14,
     "metadata": {},
     "output_type": "execute_result"
    }
   ],
   "source": [
    "p5.samples[0].read2"
   ]
  },
  {
   "cell_type": "code",
   "execution_count": 15,
   "metadata": {},
   "outputs": [
    {
     "data": {
      "text/plain": [
       "'/home/mjs5kd/UVA/example_peps/examples_subannotation/example5/../data/frog2_R1.fq.gz'"
      ]
     },
     "execution_count": 15,
     "metadata": {},
     "output_type": "execute_result"
    }
   ],
   "source": [
    "p5.samples[1].read1"
   ]
  },
  {
   "cell_type": "code",
   "execution_count": 16,
   "metadata": {},
   "outputs": [
    {
     "data": {
      "text/plain": [
       "'/home/mjs5kd/UVA/example_peps/examples_subannotation/example5/../data/frog2_R2.fq.gz'"
      ]
     },
     "execution_count": 16,
     "metadata": {},
     "output_type": "execute_result"
    }
   ],
   "source": [
    "p5.samples[1].read2"
   ]
  },
  {
   "cell_type": "code",
   "execution_count": 17,
   "metadata": {},
   "outputs": [
    {
     "data": {
      "text/plain": [
       "'/home/mjs5kd/UVA/example_peps/examples_subannotation/example5/../data/frog3_R1.fq.gz'"
      ]
     },
     "execution_count": 17,
     "metadata": {},
     "output_type": "execute_result"
    }
   ],
   "source": [
    "p5.samples[2].read1"
   ]
  },
  {
   "cell_type": "code",
   "execution_count": 18,
   "metadata": {},
   "outputs": [
    {
     "data": {
      "text/plain": [
       "'/home/mjs5kd/UVA/example_peps/examples_subannotation/example5/../data/frog3_R2.fq.gz'"
      ]
     },
     "execution_count": 18,
     "metadata": {},
     "output_type": "execute_result"
    }
   ],
   "source": [
    "p5.samples[2].read2"
   ]
  },
  {
   "cell_type": "code",
   "execution_count": 19,
   "metadata": {},
   "outputs": [
    {
     "data": {
      "text/plain": [
       "'/home/mjs5kd/UVA/example_peps/examples_subannotation/example5/../data/frog4_R1.fq.gz'"
      ]
     },
     "execution_count": 19,
     "metadata": {},
     "output_type": "execute_result"
    }
   ],
   "source": [
    "p5.samples[3].read1"
   ]
  },
  {
   "cell_type": "code",
   "execution_count": 20,
   "metadata": {},
   "outputs": [
    {
     "data": {
      "text/plain": [
       "'/home/mjs5kd/UVA/example_peps/examples_subannotation/example5/../data/frog4_R2.fq.gz'"
      ]
     },
     "execution_count": 20,
     "metadata": {},
     "output_type": "execute_result"
    }
   ],
   "source": [
    "p5.samples[3].read2"
   ]
  },
  {
   "cell_type": "code",
   "execution_count": null,
   "metadata": {},
   "outputs": [],
   "source": []
  }
 ],
 "metadata": {
  "kernelspec": {
   "display_name": "Python 3",
   "language": "python",
   "name": "python3"
  },
  "language_info": {
   "codemirror_mode": {
    "name": "ipython",
    "version": 3
   },
   "file_extension": ".py",
   "mimetype": "text/x-python",
   "name": "python",
   "nbconvert_exporter": "python",
   "pygments_lexer": "ipython3",
   "version": "3.6.5"
  }
 },
 "nbformat": 4,
 "nbformat_minor": 2
}
